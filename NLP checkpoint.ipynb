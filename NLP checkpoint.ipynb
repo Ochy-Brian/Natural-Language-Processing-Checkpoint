{
  "cells": [
    {
      "cell_type": "markdown",
      "id": "ee3b0c2c",
      "metadata": {
        "deletable": false,
        "editable": false,
        "nbgrader": {
          "cell_type": "markdown",
          "checksum": "c3e6763ad62e500d00935159dcbbd7e2",
          "grade": false,
          "grade_id": "cell-34139fb74befcf21",
          "locked": true,
          "schema_version": 3,
          "solution": false,
          "task": false
        },
        "id": "ee3b0c2c"
      },
      "source": [
        "# Natural Language Processing Checkpoint\n",
        "This checkpoint is designed to test your understanding of the content from the Text Classification Cumulative Lab.\n",
        "\n",
        "Specifically, this will cover:\n",
        "\n",
        "- Preprocessing and exploring text data using `nltk`\n",
        "- Vectorizing text data using a bag-of-words approach\n",
        "- Fitting machine learning models using vectorized text data\n",
        "\n",
        "### Data Understanding\n",
        "\n",
        "In this repository under the file path `./movie_descriptions.csv` there is a CSV file containing the titles, genres, and descriptions for 5,000 films pulled from [IMDb](https://www.kaggle.com/hijest/genre-classification-dataset-imdb).\n",
        "\n",
        "**The features of interest for this analysis will be:**\n",
        "\n",
        "1. `desc`: The description of the film, which we will explore and then use as the features of our model\n",
        "2. `genre`: The target for our predictive model"
      ]
    },
    {
      "cell_type": "code",
      "execution_count": 1,
      "id": "cfa0d304",
      "metadata": {
        "ExecuteTime": {
          "end_time": "2021-11-08T18:51:16.295737Z",
          "start_time": "2021-11-08T18:51:15.844207Z"
        },
        "deletable": false,
        "editable": false,
        "nbgrader": {
          "cell_type": "code",
          "checksum": "e4e5ea446e893e93b3533ac8f326ccb2",
          "grade": false,
          "grade_id": "cell-281bb10d1f157ca2",
          "locked": true,
          "schema_version": 3,
          "solution": false,
          "task": false
        },
        "colab": {
          "base_uri": "https://localhost:8080/",
          "height": 206
        },
        "id": "cfa0d304",
        "outputId": "e6de4615-73eb-4407-b9d6-03e19b604334"
      },
      "outputs": [
        {
          "output_type": "execute_result",
          "data": {
            "text/plain": [
              "         id                                           title          genre  \\\n",
              "789   31370                         Do You Believe? (2007)    documentary    \n",
              "2507  25529               The House That Jack Broke (2013)          drama    \n",
              "2376   5405                       Children of Peace (2016)    documentary    \n",
              "1378  49949                             Hwioribaram (2009)          drama    \n",
              "598   21445   Gui pian wang zhi zai xian xiong bang (1999)         horror    \n",
              "\n",
              "                                                   desc  \n",
              "789    Do you believe?\" digs deep into our spiritual...  \n",
              "2507   Early one morning, two FBI agents, Portman an...  \n",
              "2376   The Bosnian War was an international armed co...  \n",
              "1378   During winter vacation of their sophomore yea...  \n",
              "598    At a Hong Kong dormitory, the cook's little g...  "
            ],
            "text/html": [
              "\n",
              "  <div id=\"df-5a3b5c9e-d9a8-44c9-a5de-96359b06e3fe\" class=\"colab-df-container\">\n",
              "    <div>\n",
              "<style scoped>\n",
              "    .dataframe tbody tr th:only-of-type {\n",
              "        vertical-align: middle;\n",
              "    }\n",
              "\n",
              "    .dataframe tbody tr th {\n",
              "        vertical-align: top;\n",
              "    }\n",
              "\n",
              "    .dataframe thead th {\n",
              "        text-align: right;\n",
              "    }\n",
              "</style>\n",
              "<table border=\"1\" class=\"dataframe\">\n",
              "  <thead>\n",
              "    <tr style=\"text-align: right;\">\n",
              "      <th></th>\n",
              "      <th>id</th>\n",
              "      <th>title</th>\n",
              "      <th>genre</th>\n",
              "      <th>desc</th>\n",
              "    </tr>\n",
              "  </thead>\n",
              "  <tbody>\n",
              "    <tr>\n",
              "      <th>789</th>\n",
              "      <td>31370</td>\n",
              "      <td>Do You Believe? (2007)</td>\n",
              "      <td>documentary</td>\n",
              "      <td>Do you believe?\" digs deep into our spiritual...</td>\n",
              "    </tr>\n",
              "    <tr>\n",
              "      <th>2507</th>\n",
              "      <td>25529</td>\n",
              "      <td>The House That Jack Broke (2013)</td>\n",
              "      <td>drama</td>\n",
              "      <td>Early one morning, two FBI agents, Portman an...</td>\n",
              "    </tr>\n",
              "    <tr>\n",
              "      <th>2376</th>\n",
              "      <td>5405</td>\n",
              "      <td>Children of Peace (2016)</td>\n",
              "      <td>documentary</td>\n",
              "      <td>The Bosnian War was an international armed co...</td>\n",
              "    </tr>\n",
              "    <tr>\n",
              "      <th>1378</th>\n",
              "      <td>49949</td>\n",
              "      <td>Hwioribaram (2009)</td>\n",
              "      <td>drama</td>\n",
              "      <td>During winter vacation of their sophomore yea...</td>\n",
              "    </tr>\n",
              "    <tr>\n",
              "      <th>598</th>\n",
              "      <td>21445</td>\n",
              "      <td>Gui pian wang zhi zai xian xiong bang (1999)</td>\n",
              "      <td>horror</td>\n",
              "      <td>At a Hong Kong dormitory, the cook's little g...</td>\n",
              "    </tr>\n",
              "  </tbody>\n",
              "</table>\n",
              "</div>\n",
              "    <div class=\"colab-df-buttons\">\n",
              "\n",
              "  <div class=\"colab-df-container\">\n",
              "    <button class=\"colab-df-convert\" onclick=\"convertToInteractive('df-5a3b5c9e-d9a8-44c9-a5de-96359b06e3fe')\"\n",
              "            title=\"Convert this dataframe to an interactive table.\"\n",
              "            style=\"display:none;\">\n",
              "\n",
              "  <svg xmlns=\"http://www.w3.org/2000/svg\" height=\"24px\" viewBox=\"0 -960 960 960\">\n",
              "    <path d=\"M120-120v-720h720v720H120Zm60-500h600v-160H180v160Zm220 220h160v-160H400v160Zm0 220h160v-160H400v160ZM180-400h160v-160H180v160Zm440 0h160v-160H620v160ZM180-180h160v-160H180v160Zm440 0h160v-160H620v160Z\"/>\n",
              "  </svg>\n",
              "    </button>\n",
              "\n",
              "  <style>\n",
              "    .colab-df-container {\n",
              "      display:flex;\n",
              "      gap: 12px;\n",
              "    }\n",
              "\n",
              "    .colab-df-convert {\n",
              "      background-color: #E8F0FE;\n",
              "      border: none;\n",
              "      border-radius: 50%;\n",
              "      cursor: pointer;\n",
              "      display: none;\n",
              "      fill: #1967D2;\n",
              "      height: 32px;\n",
              "      padding: 0 0 0 0;\n",
              "      width: 32px;\n",
              "    }\n",
              "\n",
              "    .colab-df-convert:hover {\n",
              "      background-color: #E2EBFA;\n",
              "      box-shadow: 0px 1px 2px rgba(60, 64, 67, 0.3), 0px 1px 3px 1px rgba(60, 64, 67, 0.15);\n",
              "      fill: #174EA6;\n",
              "    }\n",
              "\n",
              "    .colab-df-buttons div {\n",
              "      margin-bottom: 4px;\n",
              "    }\n",
              "\n",
              "    [theme=dark] .colab-df-convert {\n",
              "      background-color: #3B4455;\n",
              "      fill: #D2E3FC;\n",
              "    }\n",
              "\n",
              "    [theme=dark] .colab-df-convert:hover {\n",
              "      background-color: #434B5C;\n",
              "      box-shadow: 0px 1px 3px 1px rgba(0, 0, 0, 0.15);\n",
              "      filter: drop-shadow(0px 1px 2px rgba(0, 0, 0, 0.3));\n",
              "      fill: #FFFFFF;\n",
              "    }\n",
              "  </style>\n",
              "\n",
              "    <script>\n",
              "      const buttonEl =\n",
              "        document.querySelector('#df-5a3b5c9e-d9a8-44c9-a5de-96359b06e3fe button.colab-df-convert');\n",
              "      buttonEl.style.display =\n",
              "        google.colab.kernel.accessAllowed ? 'block' : 'none';\n",
              "\n",
              "      async function convertToInteractive(key) {\n",
              "        const element = document.querySelector('#df-5a3b5c9e-d9a8-44c9-a5de-96359b06e3fe');\n",
              "        const dataTable =\n",
              "          await google.colab.kernel.invokeFunction('convertToInteractive',\n",
              "                                                    [key], {});\n",
              "        if (!dataTable) return;\n",
              "\n",
              "        const docLinkHtml = 'Like what you see? Visit the ' +\n",
              "          '<a target=\"_blank\" href=https://colab.research.google.com/notebooks/data_table.ipynb>data table notebook</a>'\n",
              "          + ' to learn more about interactive tables.';\n",
              "        element.innerHTML = '';\n",
              "        dataTable['output_type'] = 'display_data';\n",
              "        await google.colab.output.renderOutput(dataTable, element);\n",
              "        const docLink = document.createElement('div');\n",
              "        docLink.innerHTML = docLinkHtml;\n",
              "        element.appendChild(docLink);\n",
              "      }\n",
              "    </script>\n",
              "  </div>\n",
              "\n",
              "\n",
              "<div id=\"df-83a31380-7c4b-469f-a1b2-0a18ec873feb\">\n",
              "  <button class=\"colab-df-quickchart\" onclick=\"quickchart('df-83a31380-7c4b-469f-a1b2-0a18ec873feb')\"\n",
              "            title=\"Suggest charts\"\n",
              "            style=\"display:none;\">\n",
              "\n",
              "<svg xmlns=\"http://www.w3.org/2000/svg\" height=\"24px\"viewBox=\"0 0 24 24\"\n",
              "     width=\"24px\">\n",
              "    <g>\n",
              "        <path d=\"M19 3H5c-1.1 0-2 .9-2 2v14c0 1.1.9 2 2 2h14c1.1 0 2-.9 2-2V5c0-1.1-.9-2-2-2zM9 17H7v-7h2v7zm4 0h-2V7h2v10zm4 0h-2v-4h2v4z\"/>\n",
              "    </g>\n",
              "</svg>\n",
              "  </button>\n",
              "\n",
              "<style>\n",
              "  .colab-df-quickchart {\n",
              "      --bg-color: #E8F0FE;\n",
              "      --fill-color: #1967D2;\n",
              "      --hover-bg-color: #E2EBFA;\n",
              "      --hover-fill-color: #174EA6;\n",
              "      --disabled-fill-color: #AAA;\n",
              "      --disabled-bg-color: #DDD;\n",
              "  }\n",
              "\n",
              "  [theme=dark] .colab-df-quickchart {\n",
              "      --bg-color: #3B4455;\n",
              "      --fill-color: #D2E3FC;\n",
              "      --hover-bg-color: #434B5C;\n",
              "      --hover-fill-color: #FFFFFF;\n",
              "      --disabled-bg-color: #3B4455;\n",
              "      --disabled-fill-color: #666;\n",
              "  }\n",
              "\n",
              "  .colab-df-quickchart {\n",
              "    background-color: var(--bg-color);\n",
              "    border: none;\n",
              "    border-radius: 50%;\n",
              "    cursor: pointer;\n",
              "    display: none;\n",
              "    fill: var(--fill-color);\n",
              "    height: 32px;\n",
              "    padding: 0;\n",
              "    width: 32px;\n",
              "  }\n",
              "\n",
              "  .colab-df-quickchart:hover {\n",
              "    background-color: var(--hover-bg-color);\n",
              "    box-shadow: 0 1px 2px rgba(60, 64, 67, 0.3), 0 1px 3px 1px rgba(60, 64, 67, 0.15);\n",
              "    fill: var(--button-hover-fill-color);\n",
              "  }\n",
              "\n",
              "  .colab-df-quickchart-complete:disabled,\n",
              "  .colab-df-quickchart-complete:disabled:hover {\n",
              "    background-color: var(--disabled-bg-color);\n",
              "    fill: var(--disabled-fill-color);\n",
              "    box-shadow: none;\n",
              "  }\n",
              "\n",
              "  .colab-df-spinner {\n",
              "    border: 2px solid var(--fill-color);\n",
              "    border-color: transparent;\n",
              "    border-bottom-color: var(--fill-color);\n",
              "    animation:\n",
              "      spin 1s steps(1) infinite;\n",
              "  }\n",
              "\n",
              "  @keyframes spin {\n",
              "    0% {\n",
              "      border-color: transparent;\n",
              "      border-bottom-color: var(--fill-color);\n",
              "      border-left-color: var(--fill-color);\n",
              "    }\n",
              "    20% {\n",
              "      border-color: transparent;\n",
              "      border-left-color: var(--fill-color);\n",
              "      border-top-color: var(--fill-color);\n",
              "    }\n",
              "    30% {\n",
              "      border-color: transparent;\n",
              "      border-left-color: var(--fill-color);\n",
              "      border-top-color: var(--fill-color);\n",
              "      border-right-color: var(--fill-color);\n",
              "    }\n",
              "    40% {\n",
              "      border-color: transparent;\n",
              "      border-right-color: var(--fill-color);\n",
              "      border-top-color: var(--fill-color);\n",
              "    }\n",
              "    60% {\n",
              "      border-color: transparent;\n",
              "      border-right-color: var(--fill-color);\n",
              "    }\n",
              "    80% {\n",
              "      border-color: transparent;\n",
              "      border-right-color: var(--fill-color);\n",
              "      border-bottom-color: var(--fill-color);\n",
              "    }\n",
              "    90% {\n",
              "      border-color: transparent;\n",
              "      border-bottom-color: var(--fill-color);\n",
              "    }\n",
              "  }\n",
              "</style>\n",
              "\n",
              "  <script>\n",
              "    async function quickchart(key) {\n",
              "      const quickchartButtonEl =\n",
              "        document.querySelector('#' + key + ' button');\n",
              "      quickchartButtonEl.disabled = true;  // To prevent multiple clicks.\n",
              "      quickchartButtonEl.classList.add('colab-df-spinner');\n",
              "      try {\n",
              "        const charts = await google.colab.kernel.invokeFunction(\n",
              "            'suggestCharts', [key], {});\n",
              "      } catch (error) {\n",
              "        console.error('Error during call to suggestCharts:', error);\n",
              "      }\n",
              "      quickchartButtonEl.classList.remove('colab-df-spinner');\n",
              "      quickchartButtonEl.classList.add('colab-df-quickchart-complete');\n",
              "    }\n",
              "    (() => {\n",
              "      let quickchartButtonEl =\n",
              "        document.querySelector('#df-83a31380-7c4b-469f-a1b2-0a18ec873feb button');\n",
              "      quickchartButtonEl.style.display =\n",
              "        google.colab.kernel.accessAllowed ? 'block' : 'none';\n",
              "    })();\n",
              "  </script>\n",
              "</div>\n",
              "\n",
              "    </div>\n",
              "  </div>\n"
            ],
            "application/vnd.google.colaboratory.intrinsic+json": {
              "type": "dataframe",
              "variable_name": "data",
              "summary": "{\n  \"name\": \"data\",\n  \"rows\": 1500,\n  \"fields\": [\n    {\n      \"column\": \"id\",\n      \"properties\": {\n        \"dtype\": \"number\",\n        \"std\": 15842,\n        \"min\": 41,\n        \"max\": 54141,\n        \"num_unique_values\": 1490,\n        \"samples\": [\n          42980,\n          14474,\n          17866\n        ],\n        \"semantic_type\": \"\",\n        \"description\": \"\"\n      }\n    },\n    {\n      \"column\": \"title\",\n      \"properties\": {\n        \"dtype\": \"string\",\n        \"num_unique_values\": 1500,\n        \"samples\": [\n          \" \\\"La Patrona\\\" (2013) \",\n          \" The Blindness of Virtue (1915) \",\n          \" News from Home (1977) \"\n        ],\n        \"semantic_type\": \"\",\n        \"description\": \"\"\n      }\n    },\n    {\n      \"column\": \"genre\",\n      \"properties\": {\n        \"dtype\": \"category\",\n        \"num_unique_values\": 7,\n        \"samples\": [\n          \" documentary \",\n          \" drama \",\n          \" western \"\n        ],\n        \"semantic_type\": \"\",\n        \"description\": \"\"\n      }\n    },\n    {\n      \"column\": \"desc\",\n      \"properties\": {\n        \"dtype\": \"string\",\n        \"num_unique_values\": 1500,\n        \"samples\": [\n          \" Loosely based on The Count of Monte Cristo tells the story of Gabriela Suarez a woman framed for the death of her father by starting a mine explosion that killed many. She was sent to an insane asylum and had to endure shock theraphy. The love of her life Alejandro Beltran also the son of her moral enemy Antonia Guerra (the real culprit) believed all the lies and eventuality married Gabriela's friend. As luck would have it Gabriela met another woman that would help her get revenge against all those who wronged her including the love of her life. She fakes her death and returns as Veronica Dantes. La patrona, a story about love, passion, hatred, revenge, revolves round Gabriella Suarez, Alejandro Beltran, Antonia. Gabriella got framed for killing people at the mine including her father, through an explosion. She was sent to life imprisonment. There she met a woman who helped her to escape the fire explosion at the prison. They both traveled to a far country and returned to San Pedro with their fake identity on a mission of vengeance.\",\n          \" The Hon. Archibald Graham is expelled from college and his indignant father sends him to a little English village to study under the Rev. Harry Pemberton. Misunderstood by his father, he has grown up somewhat reckless and dissipated. All this is changed under the tutelage of the minister and he enters into the spirit of his studies with zeal. Effie Pemberton is a young girl of seventeen. She has never been told of the fundamental principles of life and has been brought up in absolute innocence and ignorance of the sex problem. She and Archie become fast friends. Winstanley, a friend of Archie's, comes to the village to visit him. He is a shallow pated youth, with no moral principles. He meets Mary Ann, the daughter of a washwoman in the village. She longs for pretty clothes and all the gaieties she has been denied, and being as innocent of life as Effie, is persuaded by Winstanley to elope to London with him. Archie follows them with the intention of saving her from his friend. In this he fails. He returns to the vicarage early in the morning. Effie, in her innocence, rushes to his room in her kimona, to tell him how glad she is to see him again. He tries to get her out of the room, but she refuses to go. The minister bursts into the room and accuses Archie of evil intentions. Archie, in an honest indignation, tells the minister some wholesome truths about his leaving his daughter in such total ignorance, which opens his eyes. Mary Ann returns home, a wreck of her former self and tells the minister her story. Pemberton and his wife then awake to the fact that girls are more likely to go wrong through innocence than in any other way. Effie is told the great truths of life. Finally Archie and Effie discover that they have been in love and promise to marry.\",\n          \" Chantal Akerman, the Belgian filmmaker, lives in New York. Filmed images of the City are accompanied by the texts of Chantal Akerman's loving but manipulative mother back home in Brussels. The City comes more and more to the front while the words of the mother, read by Akerman herself, gradually fade away.\"\n        ],\n        \"semantic_type\": \"\",\n        \"description\": \"\"\n      }\n    }\n  ]\n}"
            }
          },
          "metadata": {},
          "execution_count": 1
        }
      ],
      "source": [
        "# Run this cell without changes\n",
        "import pandas as pd\n",
        "\n",
        "# Import the data\n",
        "data = pd.read_csv('./movie_descriptions.csv')\n",
        "\n",
        "# Output a sample\n",
        "data = data.sample(1500, random_state=100)\n",
        "data.head()"
      ]
    },
    {
      "cell_type": "code",
      "execution_count": 2,
      "id": "e3b0e650",
      "metadata": {
        "deletable": false,
        "editable": false,
        "nbgrader": {
          "cell_type": "code",
          "checksum": "1b6b450810c99a898425797ced0225fc",
          "grade": false,
          "grade_id": "cell-f04cd94df7c7b107",
          "locked": true,
          "schema_version": 3,
          "solution": false,
          "task": false
        },
        "colab": {
          "base_uri": "https://localhost:8080/"
        },
        "id": "e3b0e650",
        "outputId": "a15e145d-eb18-4d05-86c0-f4d68674e823"
      },
      "outputs": [
        {
          "output_type": "execute_result",
          "data": {
            "text/plain": [
              "genre\n",
              " documentary     495\n",
              " drama           489\n",
              " comedy          284\n",
              " horror           82\n",
              " thriller         56\n",
              " action           49\n",
              " western          45\n",
              "Name: count, dtype: int64"
            ]
          },
          "metadata": {},
          "execution_count": 2
        }
      ],
      "source": [
        "# Run this cell without changes\n",
        "data.genre.value_counts()"
      ]
    },
    {
      "cell_type": "markdown",
      "id": "902c604c",
      "metadata": {
        "deletable": false,
        "editable": false,
        "nbgrader": {
          "cell_type": "markdown",
          "checksum": "ef1abb552562e7d9144e06355ce4d382",
          "grade": false,
          "grade_id": "cell-402a4b03e41919f5",
          "locked": true,
          "schema_version": 3,
          "solution": false,
          "task": false
        },
        "id": "902c604c"
      },
      "source": [
        "### Requirements\n",
        "\n",
        "1. Initialize tokenizer and stemmer objects to prepare for text preprocessing\n",
        "2. Write a function that implements standard \"bag of words\" text preprocessing\n",
        "3. Initialize and fit a `CountVectorizer` from `sklearn`\n",
        "3. Vectorize data using `CountVectorizer`\n",
        "4. Fit a decision tree classifier on vectorized text data"
      ]
    },
    {
      "cell_type": "markdown",
      "id": "e87ec775",
      "metadata": {
        "deletable": false,
        "editable": false,
        "nbgrader": {
          "cell_type": "markdown",
          "checksum": "6b31915b1e616c339bab1ea801ce5e1e",
          "grade": false,
          "grade_id": "cell-f86b392a061c5b2e",
          "locked": true,
          "schema_version": 3,
          "solution": false,
          "task": false
        },
        "id": "e87ec775"
      },
      "source": [
        "## 1) Initialize Tokenizer, Stemmer, and Stopwords Objects\n",
        "\n",
        "In our exploratory text analysis, we will:\n",
        "\n",
        "* Standardize case\n",
        "* Tokenize (split text into words)\n",
        "* Remove stopwords\n",
        "* Stem words\n",
        "\n",
        "Three of those steps require that we import some functionality from `nltk`. In the cell below, create:\n",
        "\n",
        "* An instance of `RegexpTokenizer` ([documentation here](https://www.nltk.org/api/nltk.tokenize.regexp.html#module-nltk.tokenize.regexp)) called `tokenizer`\n",
        "  * The regex pattern should select all words with three or more characters. You can use the pattern `r\"(?u)\\w{3,}\"`\n",
        "* A list of stopwords (documentation [here](https://www.nltk.org/api/nltk.corpus.html#module-nltk.corpus) and [here](https://www.nltk.org/nltk_data/)) called `stopwords_list`\n",
        "* An instance of `PorterStemmer` ([documentation here](https://www.nltk.org/api/nltk.stem.porter.html)) called `stemmer`"
      ]
    },
    {
      "cell_type": "code",
      "execution_count": 5,
      "id": "0bc89f75",
      "metadata": {
        "ExecuteTime": {
          "end_time": "2021-11-08T18:51:17.616392Z",
          "start_time": "2021-11-08T18:51:16.358327Z"
        },
        "deletable": false,
        "nbgrader": {
          "cell_type": "code",
          "checksum": "891e78118775e9e6aacc4849c4acb705",
          "grade": false,
          "grade_id": "cell-ac8d9d14c1329b01",
          "locked": false,
          "schema_version": 3,
          "solution": true,
          "task": false
        },
        "run_control": {
          "marked": false
        },
        "colab": {
          "base_uri": "https://localhost:8080/"
        },
        "id": "0bc89f75",
        "outputId": "6869332f-ebf5-4e11-df19-00dad18b78ad"
      },
      "outputs": [
        {
          "output_type": "stream",
          "name": "stdout",
          "text": [
            "Requirement already satisfied: nltk in /usr/local/lib/python3.10/dist-packages (3.8.1)\n",
            "Requirement already satisfied: click in /usr/local/lib/python3.10/dist-packages (from nltk) (8.1.7)\n",
            "Requirement already satisfied: joblib in /usr/local/lib/python3.10/dist-packages (from nltk) (1.4.2)\n",
            "Requirement already satisfied: regex>=2021.8.3 in /usr/local/lib/python3.10/dist-packages (from nltk) (2024.5.15)\n",
            "Requirement already satisfied: tqdm in /usr/local/lib/python3.10/dist-packages (from nltk) (4.66.4)\n"
          ]
        },
        {
          "output_type": "stream",
          "name": "stderr",
          "text": [
            "[nltk_data] Downloading package stopwords to /root/nltk_data...\n",
            "[nltk_data]   Unzipping corpora/stopwords.zip.\n"
          ]
        }
      ],
      "source": [
        "# Run this line in a new cell if nltk isn't working\n",
        "!pip install nltk\n",
        "\n",
        "# Import the necessary modules\n",
        "import nltk\n",
        "from nltk.tokenize import RegexpTokenizer\n",
        "from nltk.corpus import stopwords\n",
        "from nltk.stem import PorterStemmer\n",
        "\n",
        "# Download the stopwords corpus\n",
        "nltk.download('stopwords')\n",
        "\n",
        "# Create an instance of the RegexpTokenizer with the variable name `tokenizer`\n",
        "# The regex pattern should select all words with three or more characters\n",
        "tokenizer = RegexpTokenizer(pattern=r\"\\b\\w{3,}\\b\")\n",
        "\n",
        "# Create a list of stopwords in English\n",
        "stopwords_list = stopwords.words('english')\n",
        "\n",
        "# Create an instance of nltk's PorterStemmer with the variable name `stemmer`\n",
        "stemmer = PorterStemmer()\n",
        "\n",
        "# YOUR CODE HERE"
      ]
    },
    {
      "cell_type": "code",
      "execution_count": 6,
      "id": "6d7c188a",
      "metadata": {
        "ExecuteTime": {
          "end_time": "2021-11-08T18:51:17.629501Z",
          "start_time": "2021-11-08T18:51:17.618915Z"
        },
        "deletable": false,
        "editable": false,
        "nbgrader": {
          "cell_type": "code",
          "checksum": "5f88ce46541d94f58ce0176fcd373b4b",
          "grade": true,
          "grade_id": "cell-a27b368402c28604",
          "locked": true,
          "points": 1.5,
          "schema_version": 3,
          "solution": false,
          "task": false
        },
        "id": "6d7c188a"
      },
      "outputs": [],
      "source": [
        "# Checking that variables are no longer None\n",
        "assert tokenizer\n",
        "assert stopwords_list\n",
        "assert stemmer\n",
        "\n",
        "# PUT ALL WORK FOR THE ABOVE QUESTION ABOVE THIS CELL\n",
        "# THIS UNALTERABLE CELL CONTAINS HIDDEN TESTS"
      ]
    },
    {
      "cell_type": "markdown",
      "id": "389377a6",
      "metadata": {
        "deletable": false,
        "editable": false,
        "nbgrader": {
          "cell_type": "markdown",
          "checksum": "eb6d14b462bc229e1494d59222496295",
          "grade": false,
          "grade_id": "cell-33101c1955e971d9",
          "locked": true,
          "schema_version": 3,
          "solution": false,
          "task": false
        },
        "id": "389377a6"
      },
      "source": [
        "## 2) Write a Function That Implements Standard Text Preprocessing\n",
        "\n",
        "In the cell below, complete the `preprocess_text` function so the inputted text is returned lower cased, tokenized, stopwords removed, and stemmed.\n",
        "\n",
        "For example, if you input the text\n",
        "\n",
        "```\n",
        "This is an example sentence for preprocessing.\n",
        "```\n",
        "\n",
        "The result of `preprocess_text` should be this list of strings:\n",
        "\n",
        "```python\n",
        "['exampl', 'sentenc', 'preprocess']\n",
        "```"
      ]
    },
    {
      "cell_type": "code",
      "execution_count": 7,
      "id": "772bda95",
      "metadata": {
        "ExecuteTime": {
          "end_time": "2021-11-08T18:51:17.635823Z",
          "start_time": "2021-11-08T18:51:17.632236Z"
        },
        "deletable": false,
        "nbgrader": {
          "cell_type": "code",
          "checksum": "7fb4d3f4a59b17819cd3ea4eb49af4f6",
          "grade": false,
          "grade_id": "cell-614bf94825adaa14",
          "locked": false,
          "schema_version": 3,
          "solution": true,
          "task": false
        },
        "colab": {
          "base_uri": "https://localhost:8080/"
        },
        "id": "772bda95",
        "outputId": "8e6acd58-752a-4e62-99be-9b03cb6223c4"
      },
      "outputs": [
        {
          "output_type": "execute_result",
          "data": {
            "text/plain": [
              "['exampl', 'sentenc', 'preprocess']"
            ]
          },
          "metadata": {},
          "execution_count": 7
        }
      ],
      "source": [
        "def preprocess_text(text, tokenizer, stopwords_list, stemmer):\n",
        "    # Standardize case (lowercase the text)\n",
        "    text=text.lower()\n",
        "    # YOUR CODE HERE\n",
        "\n",
        "\n",
        "    # Tokenize text using `tokenizer`\n",
        "    # YOUR CODE HERE\n",
        "    tokens = tokenizer.tokenize(text)\n",
        "\n",
        "    # Remove stopwords using `stopwords_list`\n",
        "    # YOUR CODE HERE\n",
        "    filtered_tokens =[token for token in tokens if  token not in stopwords_list]\n",
        "\n",
        "    # Stem the tokenized text using `stemmer`\n",
        "    # YOUR CODE HERE\n",
        "    stemmed_tokens = [stemmer.stem(token) for token in filtered_tokens]\n",
        "\n",
        "    # Return the preprocessed text\n",
        "    # YOUR CODE HERE\n",
        "    return stemmed_tokens\n",
        "\n",
        "preprocess_text(\"This is an example sentence for preprocessing.\", tokenizer, stopwords_list, stemmer)"
      ]
    },
    {
      "cell_type": "code",
      "execution_count": 8,
      "id": "307348f9",
      "metadata": {
        "ExecuteTime": {
          "end_time": "2021-11-08T18:51:17.654363Z",
          "start_time": "2021-11-08T18:51:17.638116Z"
        },
        "deletable": false,
        "editable": false,
        "nbgrader": {
          "cell_type": "code",
          "checksum": "765370efd3880073f7829c8fba3b32f1",
          "grade": true,
          "grade_id": "cell-0eb9dc55a34b86bf",
          "locked": true,
          "points": 1,
          "schema_version": 3,
          "solution": false,
          "task": false
        },
        "id": "307348f9"
      },
      "outputs": [],
      "source": [
        "from types import FunctionType\n",
        "\n",
        "assert type(preprocess_text) == FunctionType\n",
        "assert type(preprocess_text('Example text', tokenizer, stopwords_list, stemmer)) == list\n",
        "# PUT ALL WORK FOR THE ABOVE QUESTION ABOVE THIS CELL\n",
        "# THIS UNALTERABLE CELL CONTAINS HIDDEN TESTS"
      ]
    },
    {
      "cell_type": "markdown",
      "id": "72077659",
      "metadata": {
        "deletable": false,
        "editable": false,
        "nbgrader": {
          "cell_type": "markdown",
          "checksum": "d44201f153b20be73abe5fc565aa8e91",
          "grade": false,
          "grade_id": "cell-0897c963ea268a17",
          "locked": true,
          "schema_version": 3,
          "solution": false,
          "task": false
        },
        "id": "72077659"
      },
      "source": [
        "Now that the function has been created, use it to preprocess the entire dataset:"
      ]
    },
    {
      "cell_type": "code",
      "execution_count": 9,
      "id": "31225ecb",
      "metadata": {
        "deletable": false,
        "editable": false,
        "nbgrader": {
          "cell_type": "code",
          "checksum": "ca231bc92e200d3b74b05f2d2f00830f",
          "grade": false,
          "grade_id": "cell-5a65bd7ab76cef9a",
          "locked": true,
          "schema_version": 3,
          "solution": false,
          "task": false
        },
        "colab": {
          "base_uri": "https://localhost:8080/"
        },
        "id": "31225ecb",
        "outputId": "1a54ce0c-ec23-4d60-a8a3-97c486002407"
      },
      "outputs": [
        {
          "output_type": "execute_result",
          "data": {
            "text/plain": [
              "789     [believ, dig, deep, spiritu, live, search, ans...\n",
              "2507    [earli, one, morn, two, fbi, agent, portman, c...\n",
              "2376    [bosnian, war, intern, arm, conflict, took, pl...\n",
              "1378    [winter, vacat, sophomor, year, high, school, ...\n",
              "598     [hong, kong, dormitori, cook, littl, granddaug...\n",
              "1589    [gibson, bonifacio, stop, speak, child, twenti...\n",
              "2580    [krotoa, khoi, name, khoi, girl, 1643, 1674, g...\n",
              "366     [termin, ill, man, anton, meer, françoi, van, ...\n",
              "2320    [coffe, machin, platypu, star, human, made, ra...\n",
              "1247    [jack, lawrenc, normal, polic, offic, one, day...\n",
              "Name: desc, dtype: object"
            ]
          },
          "metadata": {},
          "execution_count": 9
        }
      ],
      "source": [
        "# Run this cell without changes\n",
        "# (This may take a while due to nested loops)\n",
        "text_data = data.desc.apply(lambda x: preprocess_text(x, tokenizer, stopwords_list, stemmer))\n",
        "text_data.head(10)"
      ]
    },
    {
      "cell_type": "code",
      "execution_count": 10,
      "id": "644f78e9",
      "metadata": {
        "deletable": false,
        "editable": false,
        "nbgrader": {
          "cell_type": "code",
          "checksum": "7a3cdffc7605c5a36128474b4244781c",
          "grade": false,
          "grade_id": "cell-eea69e9c014d5d8a",
          "locked": true,
          "schema_version": 3,
          "solution": false,
          "task": false
        },
        "colab": {
          "base_uri": "https://localhost:8080/",
          "height": 206
        },
        "id": "644f78e9",
        "outputId": "1ff1db42-3533-4686-b622-93b7611348aa"
      },
      "outputs": [
        {
          "output_type": "execute_result",
          "data": {
            "text/plain": [
              "         id                                           title          genre  \\\n",
              "789   31370                         Do You Believe? (2007)    documentary    \n",
              "2507  25529               The House That Jack Broke (2013)          drama    \n",
              "2376   5405                       Children of Peace (2016)    documentary    \n",
              "1378  49949                             Hwioribaram (2009)          drama    \n",
              "598   21445   Gui pian wang zhi zai xian xiong bang (1999)         horror    \n",
              "\n",
              "                                                   desc  \\\n",
              "789    Do you believe?\" digs deep into our spiritual...   \n",
              "2507   Early one morning, two FBI agents, Portman an...   \n",
              "2376   The Bosnian War was an international armed co...   \n",
              "1378   During winter vacation of their sophomore yea...   \n",
              "598    At a Hong Kong dormitory, the cook's little g...   \n",
              "\n",
              "                                      preprocessed_text  \n",
              "789   [believ, dig, deep, spiritu, live, search, ans...  \n",
              "2507  [earli, one, morn, two, fbi, agent, portman, c...  \n",
              "2376  [bosnian, war, intern, arm, conflict, took, pl...  \n",
              "1378  [winter, vacat, sophomor, year, high, school, ...  \n",
              "598   [hong, kong, dormitori, cook, littl, granddaug...  "
            ],
            "text/html": [
              "\n",
              "  <div id=\"df-432280d0-2cfc-442a-b1fc-48694011e200\" class=\"colab-df-container\">\n",
              "    <div>\n",
              "<style scoped>\n",
              "    .dataframe tbody tr th:only-of-type {\n",
              "        vertical-align: middle;\n",
              "    }\n",
              "\n",
              "    .dataframe tbody tr th {\n",
              "        vertical-align: top;\n",
              "    }\n",
              "\n",
              "    .dataframe thead th {\n",
              "        text-align: right;\n",
              "    }\n",
              "</style>\n",
              "<table border=\"1\" class=\"dataframe\">\n",
              "  <thead>\n",
              "    <tr style=\"text-align: right;\">\n",
              "      <th></th>\n",
              "      <th>id</th>\n",
              "      <th>title</th>\n",
              "      <th>genre</th>\n",
              "      <th>desc</th>\n",
              "      <th>preprocessed_text</th>\n",
              "    </tr>\n",
              "  </thead>\n",
              "  <tbody>\n",
              "    <tr>\n",
              "      <th>789</th>\n",
              "      <td>31370</td>\n",
              "      <td>Do You Believe? (2007)</td>\n",
              "      <td>documentary</td>\n",
              "      <td>Do you believe?\" digs deep into our spiritual...</td>\n",
              "      <td>[believ, dig, deep, spiritu, live, search, ans...</td>\n",
              "    </tr>\n",
              "    <tr>\n",
              "      <th>2507</th>\n",
              "      <td>25529</td>\n",
              "      <td>The House That Jack Broke (2013)</td>\n",
              "      <td>drama</td>\n",
              "      <td>Early one morning, two FBI agents, Portman an...</td>\n",
              "      <td>[earli, one, morn, two, fbi, agent, portman, c...</td>\n",
              "    </tr>\n",
              "    <tr>\n",
              "      <th>2376</th>\n",
              "      <td>5405</td>\n",
              "      <td>Children of Peace (2016)</td>\n",
              "      <td>documentary</td>\n",
              "      <td>The Bosnian War was an international armed co...</td>\n",
              "      <td>[bosnian, war, intern, arm, conflict, took, pl...</td>\n",
              "    </tr>\n",
              "    <tr>\n",
              "      <th>1378</th>\n",
              "      <td>49949</td>\n",
              "      <td>Hwioribaram (2009)</td>\n",
              "      <td>drama</td>\n",
              "      <td>During winter vacation of their sophomore yea...</td>\n",
              "      <td>[winter, vacat, sophomor, year, high, school, ...</td>\n",
              "    </tr>\n",
              "    <tr>\n",
              "      <th>598</th>\n",
              "      <td>21445</td>\n",
              "      <td>Gui pian wang zhi zai xian xiong bang (1999)</td>\n",
              "      <td>horror</td>\n",
              "      <td>At a Hong Kong dormitory, the cook's little g...</td>\n",
              "      <td>[hong, kong, dormitori, cook, littl, granddaug...</td>\n",
              "    </tr>\n",
              "  </tbody>\n",
              "</table>\n",
              "</div>\n",
              "    <div class=\"colab-df-buttons\">\n",
              "\n",
              "  <div class=\"colab-df-container\">\n",
              "    <button class=\"colab-df-convert\" onclick=\"convertToInteractive('df-432280d0-2cfc-442a-b1fc-48694011e200')\"\n",
              "            title=\"Convert this dataframe to an interactive table.\"\n",
              "            style=\"display:none;\">\n",
              "\n",
              "  <svg xmlns=\"http://www.w3.org/2000/svg\" height=\"24px\" viewBox=\"0 -960 960 960\">\n",
              "    <path d=\"M120-120v-720h720v720H120Zm60-500h600v-160H180v160Zm220 220h160v-160H400v160Zm0 220h160v-160H400v160ZM180-400h160v-160H180v160Zm440 0h160v-160H620v160ZM180-180h160v-160H180v160Zm440 0h160v-160H620v160Z\"/>\n",
              "  </svg>\n",
              "    </button>\n",
              "\n",
              "  <style>\n",
              "    .colab-df-container {\n",
              "      display:flex;\n",
              "      gap: 12px;\n",
              "    }\n",
              "\n",
              "    .colab-df-convert {\n",
              "      background-color: #E8F0FE;\n",
              "      border: none;\n",
              "      border-radius: 50%;\n",
              "      cursor: pointer;\n",
              "      display: none;\n",
              "      fill: #1967D2;\n",
              "      height: 32px;\n",
              "      padding: 0 0 0 0;\n",
              "      width: 32px;\n",
              "    }\n",
              "\n",
              "    .colab-df-convert:hover {\n",
              "      background-color: #E2EBFA;\n",
              "      box-shadow: 0px 1px 2px rgba(60, 64, 67, 0.3), 0px 1px 3px 1px rgba(60, 64, 67, 0.15);\n",
              "      fill: #174EA6;\n",
              "    }\n",
              "\n",
              "    .colab-df-buttons div {\n",
              "      margin-bottom: 4px;\n",
              "    }\n",
              "\n",
              "    [theme=dark] .colab-df-convert {\n",
              "      background-color: #3B4455;\n",
              "      fill: #D2E3FC;\n",
              "    }\n",
              "\n",
              "    [theme=dark] .colab-df-convert:hover {\n",
              "      background-color: #434B5C;\n",
              "      box-shadow: 0px 1px 3px 1px rgba(0, 0, 0, 0.15);\n",
              "      filter: drop-shadow(0px 1px 2px rgba(0, 0, 0, 0.3));\n",
              "      fill: #FFFFFF;\n",
              "    }\n",
              "  </style>\n",
              "\n",
              "    <script>\n",
              "      const buttonEl =\n",
              "        document.querySelector('#df-432280d0-2cfc-442a-b1fc-48694011e200 button.colab-df-convert');\n",
              "      buttonEl.style.display =\n",
              "        google.colab.kernel.accessAllowed ? 'block' : 'none';\n",
              "\n",
              "      async function convertToInteractive(key) {\n",
              "        const element = document.querySelector('#df-432280d0-2cfc-442a-b1fc-48694011e200');\n",
              "        const dataTable =\n",
              "          await google.colab.kernel.invokeFunction('convertToInteractive',\n",
              "                                                    [key], {});\n",
              "        if (!dataTable) return;\n",
              "\n",
              "        const docLinkHtml = 'Like what you see? Visit the ' +\n",
              "          '<a target=\"_blank\" href=https://colab.research.google.com/notebooks/data_table.ipynb>data table notebook</a>'\n",
              "          + ' to learn more about interactive tables.';\n",
              "        element.innerHTML = '';\n",
              "        dataTable['output_type'] = 'display_data';\n",
              "        await google.colab.output.renderOutput(dataTable, element);\n",
              "        const docLink = document.createElement('div');\n",
              "        docLink.innerHTML = docLinkHtml;\n",
              "        element.appendChild(docLink);\n",
              "      }\n",
              "    </script>\n",
              "  </div>\n",
              "\n",
              "\n",
              "<div id=\"df-b8ccc635-053a-4733-8ead-5826fe031fd8\">\n",
              "  <button class=\"colab-df-quickchart\" onclick=\"quickchart('df-b8ccc635-053a-4733-8ead-5826fe031fd8')\"\n",
              "            title=\"Suggest charts\"\n",
              "            style=\"display:none;\">\n",
              "\n",
              "<svg xmlns=\"http://www.w3.org/2000/svg\" height=\"24px\"viewBox=\"0 0 24 24\"\n",
              "     width=\"24px\">\n",
              "    <g>\n",
              "        <path d=\"M19 3H5c-1.1 0-2 .9-2 2v14c0 1.1.9 2 2 2h14c1.1 0 2-.9 2-2V5c0-1.1-.9-2-2-2zM9 17H7v-7h2v7zm4 0h-2V7h2v10zm4 0h-2v-4h2v4z\"/>\n",
              "    </g>\n",
              "</svg>\n",
              "  </button>\n",
              "\n",
              "<style>\n",
              "  .colab-df-quickchart {\n",
              "      --bg-color: #E8F0FE;\n",
              "      --fill-color: #1967D2;\n",
              "      --hover-bg-color: #E2EBFA;\n",
              "      --hover-fill-color: #174EA6;\n",
              "      --disabled-fill-color: #AAA;\n",
              "      --disabled-bg-color: #DDD;\n",
              "  }\n",
              "\n",
              "  [theme=dark] .colab-df-quickchart {\n",
              "      --bg-color: #3B4455;\n",
              "      --fill-color: #D2E3FC;\n",
              "      --hover-bg-color: #434B5C;\n",
              "      --hover-fill-color: #FFFFFF;\n",
              "      --disabled-bg-color: #3B4455;\n",
              "      --disabled-fill-color: #666;\n",
              "  }\n",
              "\n",
              "  .colab-df-quickchart {\n",
              "    background-color: var(--bg-color);\n",
              "    border: none;\n",
              "    border-radius: 50%;\n",
              "    cursor: pointer;\n",
              "    display: none;\n",
              "    fill: var(--fill-color);\n",
              "    height: 32px;\n",
              "    padding: 0;\n",
              "    width: 32px;\n",
              "  }\n",
              "\n",
              "  .colab-df-quickchart:hover {\n",
              "    background-color: var(--hover-bg-color);\n",
              "    box-shadow: 0 1px 2px rgba(60, 64, 67, 0.3), 0 1px 3px 1px rgba(60, 64, 67, 0.15);\n",
              "    fill: var(--button-hover-fill-color);\n",
              "  }\n",
              "\n",
              "  .colab-df-quickchart-complete:disabled,\n",
              "  .colab-df-quickchart-complete:disabled:hover {\n",
              "    background-color: var(--disabled-bg-color);\n",
              "    fill: var(--disabled-fill-color);\n",
              "    box-shadow: none;\n",
              "  }\n",
              "\n",
              "  .colab-df-spinner {\n",
              "    border: 2px solid var(--fill-color);\n",
              "    border-color: transparent;\n",
              "    border-bottom-color: var(--fill-color);\n",
              "    animation:\n",
              "      spin 1s steps(1) infinite;\n",
              "  }\n",
              "\n",
              "  @keyframes spin {\n",
              "    0% {\n",
              "      border-color: transparent;\n",
              "      border-bottom-color: var(--fill-color);\n",
              "      border-left-color: var(--fill-color);\n",
              "    }\n",
              "    20% {\n",
              "      border-color: transparent;\n",
              "      border-left-color: var(--fill-color);\n",
              "      border-top-color: var(--fill-color);\n",
              "    }\n",
              "    30% {\n",
              "      border-color: transparent;\n",
              "      border-left-color: var(--fill-color);\n",
              "      border-top-color: var(--fill-color);\n",
              "      border-right-color: var(--fill-color);\n",
              "    }\n",
              "    40% {\n",
              "      border-color: transparent;\n",
              "      border-right-color: var(--fill-color);\n",
              "      border-top-color: var(--fill-color);\n",
              "    }\n",
              "    60% {\n",
              "      border-color: transparent;\n",
              "      border-right-color: var(--fill-color);\n",
              "    }\n",
              "    80% {\n",
              "      border-color: transparent;\n",
              "      border-right-color: var(--fill-color);\n",
              "      border-bottom-color: var(--fill-color);\n",
              "    }\n",
              "    90% {\n",
              "      border-color: transparent;\n",
              "      border-bottom-color: var(--fill-color);\n",
              "    }\n",
              "  }\n",
              "</style>\n",
              "\n",
              "  <script>\n",
              "    async function quickchart(key) {\n",
              "      const quickchartButtonEl =\n",
              "        document.querySelector('#' + key + ' button');\n",
              "      quickchartButtonEl.disabled = true;  // To prevent multiple clicks.\n",
              "      quickchartButtonEl.classList.add('colab-df-spinner');\n",
              "      try {\n",
              "        const charts = await google.colab.kernel.invokeFunction(\n",
              "            'suggestCharts', [key], {});\n",
              "      } catch (error) {\n",
              "        console.error('Error during call to suggestCharts:', error);\n",
              "      }\n",
              "      quickchartButtonEl.classList.remove('colab-df-spinner');\n",
              "      quickchartButtonEl.classList.add('colab-df-quickchart-complete');\n",
              "    }\n",
              "    (() => {\n",
              "      let quickchartButtonEl =\n",
              "        document.querySelector('#df-b8ccc635-053a-4733-8ead-5826fe031fd8 button');\n",
              "      quickchartButtonEl.style.display =\n",
              "        google.colab.kernel.accessAllowed ? 'block' : 'none';\n",
              "    })();\n",
              "  </script>\n",
              "</div>\n",
              "\n",
              "    </div>\n",
              "  </div>\n"
            ],
            "application/vnd.google.colaboratory.intrinsic+json": {
              "type": "dataframe",
              "variable_name": "data",
              "summary": "{\n  \"name\": \"data\",\n  \"rows\": 1500,\n  \"fields\": [\n    {\n      \"column\": \"id\",\n      \"properties\": {\n        \"dtype\": \"number\",\n        \"std\": 15842,\n        \"min\": 41,\n        \"max\": 54141,\n        \"num_unique_values\": 1490,\n        \"samples\": [\n          42980,\n          14474,\n          17866\n        ],\n        \"semantic_type\": \"\",\n        \"description\": \"\"\n      }\n    },\n    {\n      \"column\": \"title\",\n      \"properties\": {\n        \"dtype\": \"string\",\n        \"num_unique_values\": 1500,\n        \"samples\": [\n          \" \\\"La Patrona\\\" (2013) \",\n          \" The Blindness of Virtue (1915) \",\n          \" News from Home (1977) \"\n        ],\n        \"semantic_type\": \"\",\n        \"description\": \"\"\n      }\n    },\n    {\n      \"column\": \"genre\",\n      \"properties\": {\n        \"dtype\": \"category\",\n        \"num_unique_values\": 7,\n        \"samples\": [\n          \" documentary \",\n          \" drama \",\n          \" western \"\n        ],\n        \"semantic_type\": \"\",\n        \"description\": \"\"\n      }\n    },\n    {\n      \"column\": \"desc\",\n      \"properties\": {\n        \"dtype\": \"string\",\n        \"num_unique_values\": 1500,\n        \"samples\": [\n          \" Loosely based on The Count of Monte Cristo tells the story of Gabriela Suarez a woman framed for the death of her father by starting a mine explosion that killed many. She was sent to an insane asylum and had to endure shock theraphy. The love of her life Alejandro Beltran also the son of her moral enemy Antonia Guerra (the real culprit) believed all the lies and eventuality married Gabriela's friend. As luck would have it Gabriela met another woman that would help her get revenge against all those who wronged her including the love of her life. She fakes her death and returns as Veronica Dantes. La patrona, a story about love, passion, hatred, revenge, revolves round Gabriella Suarez, Alejandro Beltran, Antonia. Gabriella got framed for killing people at the mine including her father, through an explosion. She was sent to life imprisonment. There she met a woman who helped her to escape the fire explosion at the prison. They both traveled to a far country and returned to San Pedro with their fake identity on a mission of vengeance.\",\n          \" The Hon. Archibald Graham is expelled from college and his indignant father sends him to a little English village to study under the Rev. Harry Pemberton. Misunderstood by his father, he has grown up somewhat reckless and dissipated. All this is changed under the tutelage of the minister and he enters into the spirit of his studies with zeal. Effie Pemberton is a young girl of seventeen. She has never been told of the fundamental principles of life and has been brought up in absolute innocence and ignorance of the sex problem. She and Archie become fast friends. Winstanley, a friend of Archie's, comes to the village to visit him. He is a shallow pated youth, with no moral principles. He meets Mary Ann, the daughter of a washwoman in the village. She longs for pretty clothes and all the gaieties she has been denied, and being as innocent of life as Effie, is persuaded by Winstanley to elope to London with him. Archie follows them with the intention of saving her from his friend. In this he fails. He returns to the vicarage early in the morning. Effie, in her innocence, rushes to his room in her kimona, to tell him how glad she is to see him again. He tries to get her out of the room, but she refuses to go. The minister bursts into the room and accuses Archie of evil intentions. Archie, in an honest indignation, tells the minister some wholesome truths about his leaving his daughter in such total ignorance, which opens his eyes. Mary Ann returns home, a wreck of her former self and tells the minister her story. Pemberton and his wife then awake to the fact that girls are more likely to go wrong through innocence than in any other way. Effie is told the great truths of life. Finally Archie and Effie discover that they have been in love and promise to marry.\",\n          \" Chantal Akerman, the Belgian filmmaker, lives in New York. Filmed images of the City are accompanied by the texts of Chantal Akerman's loving but manipulative mother back home in Brussels. The City comes more and more to the front while the words of the mother, read by Akerman herself, gradually fade away.\"\n        ],\n        \"semantic_type\": \"\",\n        \"description\": \"\"\n      }\n    },\n    {\n      \"column\": \"preprocessed_text\",\n      \"properties\": {\n        \"dtype\": \"object\",\n        \"semantic_type\": \"\",\n        \"description\": \"\"\n      }\n    }\n  ]\n}"
            }
          },
          "metadata": {},
          "execution_count": 10
        }
      ],
      "source": [
        "# Run this cell without changes\n",
        "data[\"preprocessed_text\"] = text_data\n",
        "data.head()"
      ]
    },
    {
      "cell_type": "markdown",
      "id": "b8b9b970",
      "metadata": {
        "deletable": false,
        "editable": false,
        "nbgrader": {
          "cell_type": "markdown",
          "checksum": "40350eb42c93073fcc6aaf4dc6f432aa",
          "grade": false,
          "grade_id": "cell-6055dd6b224b8099",
          "locked": true,
          "schema_version": 3,
          "solution": false,
          "task": false
        },
        "id": "b8b9b970"
      },
      "source": [
        "Now let's take a look at the top ten most frequent words for each genre."
      ]
    },
    {
      "cell_type": "code",
      "execution_count": 11,
      "id": "300d157d",
      "metadata": {
        "deletable": false,
        "editable": false,
        "nbgrader": {
          "cell_type": "code",
          "checksum": "99b70aecedbe26a7f7267c86483effd8",
          "grade": false,
          "grade_id": "cell-89aa21c97d821cb0",
          "locked": true,
          "schema_version": 3,
          "solution": false,
          "task": false
        },
        "colab": {
          "base_uri": "https://localhost:8080/",
          "height": 1000
        },
        "id": "300d157d",
        "outputId": "bc42aff2-385f-47a8-84ae-1d4b12c17a5f"
      },
      "outputs": [
        {
          "output_type": "display_data",
          "data": {
            "text/plain": [
              "<Figure size 1200x1200 with 7 Axes>"
            ],
            "image/png": "[encoded data removed]"
          },
          "metadata": {}
        }
      ],
      "source": [
        "# Run this cell without changes\n",
        "import matplotlib.pyplot as plt\n",
        "import seaborn as sns\n",
        "\n",
        "# Set up figure and axes\n",
        "fig, axes = plt.subplots(nrows=7, figsize=(12, 12))\n",
        "\n",
        "# Empty dict to hold words that have already been plotted and their colors\n",
        "plotted_words_and_colors = {}\n",
        "# Establish color palette to pull from\n",
        "# (If you get an error message about popping from an empty list, increase this #)\n",
        "color_palette = sns.color_palette('cividis', n_colors=38)\n",
        "\n",
        "# Creating a plot for each unique genre\n",
        "data_by_genre = [y for _, y in data.groupby('genre', as_index=False)]\n",
        "for idx, genre_df in enumerate(data_by_genre):\n",
        "    # Find top 10 words in this genre\n",
        "    all_words_in_genre = genre_df.preprocessed_text.explode()\n",
        "    top_10 = all_words_in_genre.value_counts()[:10]\n",
        "\n",
        "    # Select appropriate colors, reusing colors if words repeat\n",
        "    colors = []\n",
        "    for word in top_10.index:\n",
        "        if word not in plotted_words_and_colors:\n",
        "            new_color = color_palette.pop(0)\n",
        "            plotted_words_and_colors[word] = new_color\n",
        "        colors.append(plotted_words_and_colors[word])\n",
        "\n",
        "    # Select axes, plot data, set title\n",
        "    ax = axes[idx]\n",
        "    ax.bar(top_10.index, top_10.values, color=colors)\n",
        "    ax.set_title(genre_df.iloc[0].genre.title())\n",
        "\n",
        "fig.tight_layout()"
      ]
    },
    {
      "cell_type": "markdown",
      "id": "655871f8",
      "metadata": {
        "deletable": false,
        "editable": false,
        "nbgrader": {
          "cell_type": "markdown",
          "checksum": "a6f924f63f7d44bbc19ed580462b57d1",
          "grade": false,
          "grade_id": "cell-8b9cdaabf9fb047d",
          "locked": true,
          "schema_version": 3,
          "solution": false,
          "task": false
        },
        "id": "655871f8"
      },
      "source": [
        "## 3) Fit a Count Vectorizer\n",
        "\n",
        "Now that we have explored the data some, let's prepare it for modeling.\n",
        "\n",
        "Before we fit a vectorizer to the data, we need to convert the list of tokens for each document back to a string datatype and create a train test split."
      ]
    },
    {
      "cell_type": "code",
      "execution_count": 12,
      "id": "f4070b70",
      "metadata": {
        "ExecuteTime": {
          "end_time": "2021-11-08T18:51:40.308407Z",
          "start_time": "2021-11-08T18:51:40.292643Z"
        },
        "deletable": false,
        "editable": false,
        "nbgrader": {
          "cell_type": "code",
          "checksum": "7615d993ff65afe7da3e1ea7d95e497f",
          "grade": false,
          "grade_id": "cell-b51f2230605c794d",
          "locked": true,
          "schema_version": 3,
          "solution": false,
          "task": false
        },
        "colab": {
          "base_uri": "https://localhost:8080/"
        },
        "id": "f4070b70",
        "outputId": "910be0db-8708-4ee2-cecb-db248846fa73"
      },
      "outputs": [
        {
          "output_type": "execute_result",
          "data": {
            "text/plain": [
              "3806    young man aunt refus give inherit marri pass w...\n",
              "3202    21st centuri seem one inexhaust wealth great c...\n",
              "1886                                detail plot kept wrap\n",
              "2674    walk dark live struggl refuge live krisan refu...\n",
              "4176    dean randi best friend yearn part someth bigge...\n",
              "4846    new airplan equip new comput fli plane first f...\n",
              "946     über hot chilean director nicolá lópez back fu...\n",
              "3863    miguel rodrigo two best friend one thai movi w...\n",
              "1670    novelist eddi work wife lilli invit two coupl ...\n",
              "1360    red hawk dugan men attack small wagon train co...\n",
              "Name: joined_preprocessed_text, dtype: object"
            ]
          },
          "metadata": {},
          "execution_count": 12
        }
      ],
      "source": [
        "# Run this cell without changes\n",
        "from sklearn.model_selection import train_test_split\n",
        "\n",
        "# Convert token lists to strings\n",
        "data[\"joined_preprocessed_text\"] = data[\"preprocessed_text\"].str.join(\" \")\n",
        "\n",
        "# Create train test split\n",
        "X_train, X_test, y_train, y_test = train_test_split(\n",
        "    data[\"joined_preprocessed_text\"], data.genre, test_size=0.3, random_state=2021)\n",
        "\n",
        "X_train.head(10)"
      ]
    },
    {
      "cell_type": "markdown",
      "id": "e817b5bd",
      "metadata": {
        "id": "e817b5bd"
      },
      "source": [
        "**In the cell below, create a CountVectorizer instance ([documentation here](https://scikit-learn.org/stable/modules/generated/sklearn.feature_extraction.text.CountVectorizer.html)) with default arguments, called `vectorizer`, and fit it to the training data.**"
      ]
    },
    {
      "cell_type": "code",
      "execution_count": 16,
      "id": "24c49815",
      "metadata": {
        "ExecuteTime": {
          "end_time": "2021-11-08T18:51:40.582899Z",
          "start_time": "2021-11-08T18:51:40.310715Z"
        },
        "deletable": false,
        "nbgrader": {
          "cell_type": "code",
          "checksum": "67d2e240ffaff39ab802f7586092578e",
          "grade": false,
          "grade_id": "cell-5f28c9cfadfcd688",
          "locked": false,
          "schema_version": 3,
          "solution": true,
          "task": false
        },
        "colab": {
          "base_uri": "https://localhost:8080/",
          "height": 75
        },
        "id": "24c49815",
        "outputId": "d1c5ab67-b420-4e85-8762-d7ee84817487"
      },
      "outputs": [
        {
          "output_type": "execute_result",
          "data": {
            "text/plain": [
              "CountVectorizer()"
            ],
            "text/html": [
              "<style>#sk-container-id-1 {color: black;background-color: white;}#sk-container-id-1 pre{padding: 0;}#sk-container-id-1 div.sk-toggleable {background-color: white;}#sk-container-id-1 label.sk-toggleable__label {cursor: pointer;display: block;width: 100%;margin-bottom: 0;padding: 0.3em;box-sizing: border-box;text-align: center;}#sk-container-id-1 label.sk-toggleable__label-arrow:before {content: \"▸\";float: left;margin-right: 0.25em;color: #696969;}#sk-container-id-1 label.sk-toggleable__label-arrow:hover:before {color: black;}#sk-container-id-1 div.sk-estimator:hover label.sk-toggleable__label-arrow:before {color: black;}#sk-container-id-1 div.sk-toggleable__content {max-height: 0;max-width: 0;overflow: hidden;text-align: left;background-color: #f0f8ff;}#sk-container-id-1 div.sk-toggleable__content pre {margin: 0.2em;color: black;border-radius: 0.25em;background-color: #f0f8ff;}#sk-container-id-1 input.sk-toggleable__control:checked~div.sk-toggleable__content {max-height: 200px;max-width: 100%;overflow: auto;}#sk-container-id-1 input.sk-toggleable__control:checked~label.sk-toggleable__label-arrow:before {content: \"▾\";}#sk-container-id-1 div.sk-estimator input.sk-toggleable__control:checked~label.sk-toggleable__label {background-color: #d4ebff;}#sk-container-id-1 div.sk-label input.sk-toggleable__control:checked~label.sk-toggleable__label {background-color: #d4ebff;}#sk-container-id-1 input.sk-hidden--visually {border: 0;clip: rect(1px 1px 1px 1px);clip: rect(1px, 1px, 1px, 1px);height: 1px;margin: -1px;overflow: hidden;padding: 0;position: absolute;width: 1px;}#sk-container-id-1 div.sk-estimator {font-family: monospace;background-color: #f0f8ff;border: 1px dotted black;border-radius: 0.25em;box-sizing: border-box;margin-bottom: 0.5em;}#sk-container-id-1 div.sk-estimator:hover {background-color: #d4ebff;}#sk-container-id-1 div.sk-parallel-item::after {content: \"\";width: 100%;border-bottom: 1px solid gray;flex-grow: 1;}#sk-container-id-1 div.sk-label:hover label.sk-toggleable__label {background-color: #d4ebff;}#sk-container-id-1 div.sk-serial::before {content: \"\";position: absolute;border-left: 1px solid gray;box-sizing: border-box;top: 0;bottom: 0;left: 50%;z-index: 0;}#sk-container-id-1 div.sk-serial {display: flex;flex-direction: column;align-items: center;background-color: white;padding-right: 0.2em;padding-left: 0.2em;position: relative;}#sk-container-id-1 div.sk-item {position: relative;z-index: 1;}#sk-container-id-1 div.sk-parallel {display: flex;align-items: stretch;justify-content: center;background-color: white;position: relative;}#sk-container-id-1 div.sk-item::before, #sk-container-id-1 div.sk-parallel-item::before {content: \"\";position: absolute;border-left: 1px solid gray;box-sizing: border-box;top: 0;bottom: 0;left: 50%;z-index: -1;}#sk-container-id-1 div.sk-parallel-item {display: flex;flex-direction: column;z-index: 1;position: relative;background-color: white;}#sk-container-id-1 div.sk-parallel-item:first-child::after {align-self: flex-end;width: 50%;}#sk-container-id-1 div.sk-parallel-item:last-child::after {align-self: flex-start;width: 50%;}#sk-container-id-1 div.sk-parallel-item:only-child::after {width: 0;}#sk-container-id-1 div.sk-dashed-wrapped {border: 1px dashed gray;margin: 0 0.4em 0.5em 0.4em;box-sizing: border-box;padding-bottom: 0.4em;background-color: white;}#sk-container-id-1 div.sk-label label {font-family: monospace;font-weight: bold;display: inline-block;line-height: 1.2em;}#sk-container-id-1 div.sk-label-container {text-align: center;}#sk-container-id-1 div.sk-container {/* jupyter's `normalize.less` sets `[hidden] { display: none; }` but bootstrap.min.css set `[hidden] { display: none !important; }` so we also need the `!important` here to be able to override the default hidden behavior on the sphinx rendered scikit-learn.org. See: https://github.com/scikit-learn/scikit-learn/issues/21755 */display: inline-block !important;position: relative;}#sk-container-id-1 div.sk-text-repr-fallback {display: none;}</style><div id=\"sk-container-id-1\" class=\"sk-top-container\"><div class=\"sk-text-repr-fallback\"><pre>CountVectorizer()</pre><b>In a Jupyter environment, please rerun this cell to show the HTML representation or trust the notebook. <br />On GitHub, the HTML representation is unable to render, please try loading this page with nbviewer.org.</b></div><div class=\"sk-container\" hidden><div class=\"sk-item\"><div class=\"sk-estimator sk-toggleable\"><input class=\"sk-toggleable__control sk-hidden--visually\" id=\"sk-estimator-id-1\" type=\"checkbox\" checked><label for=\"sk-estimator-id-1\" class=\"sk-toggleable__label sk-toggleable__label-arrow\">CountVectorizer</label><div class=\"sk-toggleable__content\"><pre>CountVectorizer()</pre></div></div></div></div></div>"
            ]
          },
          "metadata": {},
          "execution_count": 16
        }
      ],
      "source": [
        "# Import the CountVectorizer object from sklearn\n",
        "# YOUR CODE HERE\n",
        "from sklearn.feature_extraction.text import CountVectorizer\n",
        "\n",
        "# Create a `vectorizer` instance\n",
        "# YOUR CODE HERE\n",
        "vectorizer = CountVectorizer()\n",
        "\n",
        "\n",
        "# Fit the vectorizer to the training data\n",
        "# YOUR CODE HERE\n",
        "vectorizer.fit(X_train)"
      ]
    },
    {
      "cell_type": "code",
      "execution_count": 17,
      "id": "e035024d",
      "metadata": {
        "ExecuteTime": {
          "end_time": "2021-11-08T18:51:40.807099Z",
          "start_time": "2021-11-08T18:51:40.585119Z"
        },
        "deletable": false,
        "editable": false,
        "nbgrader": {
          "cell_type": "code",
          "checksum": "310b5e1d06c4d236fc118443eaf15669",
          "grade": true,
          "grade_id": "cell-27b308c317f85510",
          "locked": true,
          "points": 0.5,
          "schema_version": 3,
          "solution": false,
          "task": false
        },
        "id": "e035024d"
      },
      "outputs": [],
      "source": [
        "assert vectorizer\n",
        "# PUT ALL WORK FOR THE ABOVE QUESTION ABOVE THIS CELL\n",
        "# THIS UNALTERABLE CELL CONTAINS HIDDEN TESTS"
      ]
    },
    {
      "cell_type": "markdown",
      "id": "5c71427c",
      "metadata": {
        "deletable": false,
        "editable": false,
        "nbgrader": {
          "cell_type": "markdown",
          "checksum": "023e661d06327f7071013331ef569261",
          "grade": false,
          "grade_id": "cell-878793ee1cb75b9b",
          "locked": true,
          "schema_version": 3,
          "solution": false,
          "task": false
        },
        "id": "5c71427c"
      },
      "source": [
        "## 4) Vectorize the Data\n",
        "\n",
        "In the cell below, vectorize the training and test datasets using the fitted count vectorizer."
      ]
    },
    {
      "cell_type": "code",
      "execution_count": 18,
      "id": "fdd25650",
      "metadata": {
        "ExecuteTime": {
          "end_time": "2021-11-08T18:51:41.047346Z",
          "start_time": "2021-11-08T18:51:40.809618Z"
        },
        "deletable": false,
        "nbgrader": {
          "cell_type": "code",
          "checksum": "6f2e04d2054ecf7d155d32628a722be6",
          "grade": false,
          "grade_id": "cell-2de1876d86b996ef",
          "locked": false,
          "schema_version": 3,
          "solution": true,
          "task": false
        },
        "id": "fdd25650"
      },
      "outputs": [],
      "source": [
        "# Replace None with appropriate code\n",
        "\n",
        "X_train_vectorized = vectorizer.transform(X_train)\n",
        "X_test_vectorized = vectorizer.transform(X_test)\n",
        "# YOUR CODE HERE\n"
      ]
    },
    {
      "cell_type": "code",
      "execution_count": 19,
      "id": "34c99cdb",
      "metadata": {
        "ExecuteTime": {
          "end_time": "2021-11-08T18:51:41.136271Z",
          "start_time": "2021-11-08T18:51:41.049426Z"
        },
        "deletable": false,
        "editable": false,
        "nbgrader": {
          "cell_type": "code",
          "checksum": "816e996e7f2197fa93e79b690a149c0e",
          "grade": true,
          "grade_id": "cell-3d14b3e53ce6201a",
          "locked": true,
          "points": 1,
          "schema_version": 3,
          "solution": false,
          "task": false
        },
        "id": "34c99cdb"
      },
      "outputs": [],
      "source": [
        "from scipy.sparse import csr_matrix\n",
        "assert type(X_train_vectorized) == csr_matrix\n",
        "assert type(X_test_vectorized) == csr_matrix\n",
        "# PUT ALL WORK FOR THE ABOVE QUESTION ABOVE THIS CELL\n",
        "# THIS UNALTERABLE CELL CONTAINS HIDDEN TESTS"
      ]
    },
    {
      "cell_type": "markdown",
      "id": "8bf2cff0",
      "metadata": {
        "deletable": false,
        "editable": false,
        "nbgrader": {
          "cell_type": "markdown",
          "checksum": "5bd87e1b2953c11fb75fdd2e1824bb9d",
          "grade": false,
          "grade_id": "cell-c7f79ea442cc186b",
          "locked": true,
          "schema_version": 3,
          "solution": false,
          "task": false
        },
        "id": "8bf2cff0"
      },
      "source": [
        "## 5) Fit a Decision Tree Model\n",
        "\n",
        "In the cell below,\n",
        "\n",
        "- Create an instance of `sklearn`'s `DecisionTreeClassifier` ([documentation here](https://scikit-learn.org/stable/modules/generated/sklearn.tree.DecisionTreeClassifier.html)), using default arguments, with the variable name `dt`\n",
        "- Fit the model to the vectorized training data"
      ]
    },
    {
      "cell_type": "code",
      "execution_count": 20,
      "id": "de740888",
      "metadata": {
        "ExecuteTime": {
          "end_time": "2021-11-08T18:51:42.154158Z",
          "start_time": "2021-11-08T18:51:41.138578Z"
        },
        "deletable": false,
        "nbgrader": {
          "cell_type": "code",
          "checksum": "10af0780ee69215d387a254834d5acaa",
          "grade": false,
          "grade_id": "cell-149edcbb04ffb6c8",
          "locked": false,
          "schema_version": 3,
          "solution": true,
          "task": false
        },
        "id": "de740888"
      },
      "outputs": [],
      "source": [
        "# Replace None with appropriate code\n",
        "\n",
        "# Import DecisionTreeClassifier\n",
        "from sklearn.tree import DecisionTreeClassifier\n",
        "\n",
        "# Initialize `dt`\n",
        "dt = DecisionTreeClassifier()\n",
        "\n",
        "# Fit the model to the training data\n",
        "df = dt.fit(X_train_vectorized,y_train)\n",
        "# YOUR CODE HERE\n"
      ]
    },
    {
      "cell_type": "code",
      "execution_count": 21,
      "id": "70462da0",
      "metadata": {
        "ExecuteTime": {
          "end_time": "2021-11-08T18:51:42.158746Z",
          "start_time": "2021-11-08T18:51:42.156340Z"
        },
        "deletable": false,
        "editable": false,
        "nbgrader": {
          "cell_type": "code",
          "checksum": "33eac0da92163d235fd1c364c91e21c4",
          "grade": true,
          "grade_id": "cell-88468f1c4fc90f0f",
          "locked": true,
          "points": 1,
          "schema_version": 3,
          "solution": false,
          "task": false
        },
        "id": "70462da0"
      },
      "outputs": [],
      "source": [
        "assert dt\n",
        "# PUT ALL WORK FOR THE ABOVE QUESTION ABOVE THIS CELL\n",
        "# THIS UNALTERABLE CELL CONTAINS HIDDEN TESTS"
      ]
    },
    {
      "cell_type": "markdown",
      "id": "c388e3a2",
      "metadata": {
        "deletable": false,
        "editable": false,
        "nbgrader": {
          "cell_type": "markdown",
          "checksum": "f1e9a48f0fbf124feff21ec93cb51c01",
          "grade": false,
          "grade_id": "cell-cdaffa8177aaf22f",
          "locked": true,
          "schema_version": 3,
          "solution": false,
          "task": false
        },
        "id": "c388e3a2"
      },
      "source": [
        "The following code will now evaluate our model on the test data:"
      ]
    },
    {
      "cell_type": "code",
      "execution_count": 22,
      "id": "a974edb4",
      "metadata": {
        "deletable": false,
        "editable": false,
        "nbgrader": {
          "cell_type": "code",
          "checksum": "a7a02f8845388398948fc8ec9e0f11db",
          "grade": false,
          "grade_id": "cell-1c19dcab44955d73",
          "locked": true,
          "schema_version": 3,
          "solution": false,
          "task": false
        },
        "colab": {
          "base_uri": "https://localhost:8080/",
          "height": 1000
        },
        "id": "a974edb4",
        "outputId": "0499d8c0-533b-482d-c909-c5cbc8387788"
      },
      "outputs": [
        {
          "output_type": "display_data",
          "data": {
            "text/plain": [
              "<Figure size 1200x1200 with 1 Axes>"
            ],
            "image/png": "[encoded data removed]"
          },
          "metadata": {}
        }
      ],
      "source": [
        "from sklearn.metrics import ConfusionMatrixDisplay\n",
        "fig, ax = plt.subplots(figsize=(12,12))\n",
        "ConfusionMatrixDisplay.from_estimator(dt, X_test_vectorized,\n",
        "                                      y_test, ax=ax, cmap=\"cividis\", colorbar=False);"
      ]
    }
  ],
  "metadata": {
    "kernelspec": {
      "display_name": "Python 3 (ipykernel)",
      "language": "python",
      "name": "python3"
    },
    "language_info": {
      "codemirror_mode": {
        "name": "ipython",
        "version": 3
      },
      "file_extension": ".py",
      "mimetype": "text/x-python",
      "name": "python",
      "nbconvert_exporter": "python",
      "pygments_lexer": "ipython3",
      "version": "3.12.0"
    },
    "toc": {
      "base_numbering": 1,
      "nav_menu": {},
      "number_sections": false,
      "sideBar": true,
      "skip_h1_title": true,
      "title_cell": "Table of Contents",
      "title_sidebar": "Contents",
      "toc_cell": false,
      "toc_position": {},
      "toc_section_display": true,
      "toc_window_display": false
    },
    "varInspector": {
      "cols": {
        "lenName": 16,
        "lenType": 16,
        "lenVar": 40
      },
      "kernels_config": {
        "python": {
          "delete_cmd_postfix": "",
          "delete_cmd_prefix": "del ",
          "library": "var_list.py",
          "varRefreshCmd": "print(var_dic_list())"
        },
        "r": {
          "delete_cmd_postfix": ") ",
          "delete_cmd_prefix": "rm(",
          "library": "var_list.r",
          "varRefreshCmd": "cat(var_dic_list()) "
        }
      },
      "types_to_exclude": [
        "module",
        "function",
        "builtin_function_or_method",
        "instance",
        "_Feature"
      ],
      "window_display": false
    },
    "colab": {
      "provenance": []
    }
  },
  "nbformat": 4,
  "nbformat_minor": 5
}